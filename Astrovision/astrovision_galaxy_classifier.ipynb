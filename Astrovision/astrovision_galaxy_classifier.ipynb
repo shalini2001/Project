{
  "nbformat": 4,
  "nbformat_minor": 0,
  "metadata": {
    "kernelspec": {
      "display_name": "Python 3",
      "language": "python",
      "name": "python3"
    },
    "language_info": {
      "codemirror_mode": {
        "name": "ipython",
        "version": 3
      },
      "file_extension": ".py",
      "mimetype": "text/x-python",
      "name": "python",
      "nbconvert_exporter": "python",
      "pygments_lexer": "ipython3",
      "version": "3.8.3"
    },
    "colab": {
      "name": "astrovision_galaxy_classifier.ipynb",
      "provenance": [],
      "include_colab_link": true
    }
  },
  "cells": [
    {
      "cell_type": "markdown",
      "metadata": {
        "id": "view-in-github",
        "colab_type": "text"
      },
      "source": [
        "<a href=\"https://colab.research.google.com/github/shalini2001/Project/blob/main/astrovision_galaxy_classifier.ipynb\" target=\"_parent\"><img src=\"https://colab.research.google.com/assets/colab-badge.svg\" alt=\"Open In Colab\"/></a>"
      ]
    },
    {
      "cell_type": "markdown",
      "metadata": {
        "id": "M8Lh-Ba7iUX4"
      },
      "source": [
        "# Task 1\n",
        "## Import the libraries/packages"
      ]
    },
    {
      "cell_type": "code",
      "metadata": {
        "id": "epzz10L5iUX7"
      },
      "source": [
        "import itertools\n",
        "\n",
        "import numpy as np\n",
        "from sklearn.tree import DecisionTreeClassifier\n",
        "from matplotlib import pyplot as plt\n",
        "from sklearn.metrics import confusion_matrix\n",
        "from sklearn.model_selection import cross_val_predict\n",
        "from sklearn.ensemble import RandomForestClassifier"
      ],
      "execution_count": null,
      "outputs": []
    },
    {
      "cell_type": "markdown",
      "metadata": {
        "id": "m96RdnYXiUX8"
      },
      "source": [
        "# Task 2\n",
        "## Split the data"
      ]
    },
    {
      "cell_type": "code",
      "metadata": {
        "id": "rlO37qLiiUX8",
        "outputId": "7cccbbe5-2107-4ed2-8f22-1fce2c2a35c4"
      },
      "source": [
        "def splitdata_train_test(data, fraction_training):\n",
        "    # Shuffle the data\n",
        "    np.random.shuffle(data)\n",
        "    \n",
        "    # Split the data\n",
        "    limit = int(len(data)*fraction_training)\n",
        "    training = data[0:limit]\n",
        "    testing = data[limit:]\n",
        "    \n",
        "    return training, testing\n",
        "\n",
        "\n",
        "def main():\n",
        "    data = np.load(r'C:\\Users\\91735\\Downloads\\galaxy_catalogue.npy')\n",
        "\n",
        "    # set the fraction of data which should be in the training set\n",
        "    fraction_training = 0.7\n",
        "\n",
        "    # split the data using your function\n",
        "    training, testing = splitdata_train_test(data, fraction_training)\n",
        "\n",
        "    # print the key values\n",
        "    print('Number data galaxies:', len(data))\n",
        "    print('Train fraction:', fraction_training)\n",
        "    print('Number of galaxies in training set:', len(training))\n",
        "    print('Number of galaxies in testing set:', len(testing))\n",
        "\n",
        "\n",
        "main()"
      ],
      "execution_count": null,
      "outputs": [
        {
          "output_type": "stream",
          "text": [
            "Number data galaxies: 780\n",
            "Train fraction: 0.7\n",
            "Number of galaxies in training set: 546\n",
            "Number of galaxies in testing set: 234\n"
          ],
          "name": "stdout"
        }
      ]
    },
    {
      "cell_type": "markdown",
      "metadata": {
        "id": "HJhcmT7hiUX-"
      },
      "source": [
        "# Task 3\n",
        "## Generate feature targets"
      ]
    },
    {
      "cell_type": "code",
      "metadata": {
        "scrolled": true,
        "id": "kIv2K80RiUX_",
        "outputId": "8cf4587e-ae02-4258-ec50-9e8e98bcd9d6"
      },
      "source": [
        "def generate_features_targets(data):\n",
        "    targets = data['class']\n",
        "\n",
        "    features = np.empty(shape=(len(data), 13))\n",
        "    features[:, 0] = data['u-g']\n",
        "    features[:, 1] = data['g-r']\n",
        "    features[:, 2] = data['r-i']\n",
        "    features[:, 3] = data['i-z']\n",
        "    features[:, 4] = data['ecc']\n",
        "    features[:, 5] = data['m4_u']\n",
        "    features[:, 6] = data['m4_g']\n",
        "    features[:, 7] = data['m4_r']\n",
        "    features[:, 8] = data['m4_i']\n",
        "    features[:, 9] = data['m4_z']\n",
        "\n",
        "    # concentration in u filter\n",
        "    features[:, 10] = data['petroR50_u']/data['petroR90_u']\n",
        "    # concentration in r filter\n",
        "    features[:, 11] = data['petroR50_r']/data['petroR90_r']\n",
        "    # concentration in z filter\n",
        "    features[:, 12] = data['petroR50_z']/data['petroR90_z']\n",
        "\n",
        "    return features, targets\n",
        "\n",
        "\n",
        "def main():\n",
        "  data = np.load(r'C:\\Users\\91735\\Downloads\\galaxy_catalogue.npy')\n",
        "\n",
        "  features, targets = generate_features_targets(data)\n",
        "\n",
        "  # The shape of each array to check the arrays are the correct dimensions \n",
        "  print(\"Features shape:\", features.shape)\n",
        "  print(\"Targets shape:\", targets.shape)\n",
        "\n",
        "\n",
        "main()"
      ],
      "execution_count": null,
      "outputs": [
        {
          "output_type": "stream",
          "text": [
            "Features shape: (780, 13)\n",
            "Targets shape: (780,)\n"
          ],
          "name": "stdout"
        }
      ]
    },
    {
      "cell_type": "markdown",
      "metadata": {
        "id": "hS6Q8FHliUX_"
      },
      "source": [
        "# Task 4\n",
        "## Train the decision tree classifier"
      ]
    },
    {
      "cell_type": "code",
      "metadata": {
        "id": "iVkUrkd0iUYA",
        "outputId": "8c753d42-8697-4580-920c-1c8386ef7ef7"
      },
      "source": [
        "def dtc_predict_actual(data):\n",
        "    # split the data into training and testing sets using a training\n",
        "    # fraction of 0.7\n",
        "    training, testing = splitdata_train_test(data, 0.7)\n",
        "\n",
        "    # generate the feature and targets for the training and test sets\n",
        "    # i.e. train_features, train_targets, test_features, test_targets\n",
        "    train_features, train_targets = generate_features_targets(training)\n",
        "    test_features, test_targets = generate_features_targets(testing)\n",
        "\n",
        "    # instantiate a decision tree classifier\n",
        "    dtr = DecisionTreeClassifier()\n",
        "\n",
        "    # train the classifier with the train_features and train_targets\n",
        "    dtr.fit(train_features, train_targets)\n",
        "\n",
        "    # get predictions for the test_features\n",
        "    predictions = dtr.predict(test_features)\n",
        "\n",
        "    # return the predictions and the test_targets\n",
        "    return predictions, test_targets\n",
        "\n",
        "\n",
        "def main():\n",
        "    data = np.load(r'C:\\Users\\91735\\Downloads\\galaxy_catalogue.npy')\n",
        "    \n",
        "    predicted_class, actual_class = dtc_predict_actual(data)\n",
        "\n",
        "    # Print some of the initial results\n",
        "    print(\"Some initial results...\\n   predicted,  actual\")\n",
        "    for i in range(10):\n",
        "        print(\"{}. {}, {}\".format(i, predicted_class[i], actual_class[i]))\n",
        "\n",
        "\n",
        "main()"
      ],
      "execution_count": null,
      "outputs": [
        {
          "output_type": "stream",
          "text": [
            "Some initial results...\n",
            "   predicted,  actual\n",
            "0. elliptical, elliptical\n",
            "1. elliptical, elliptical\n",
            "2. merger, merger\n",
            "3. elliptical, merger\n",
            "4. merger, merger\n",
            "5. elliptical, elliptical\n",
            "6. merger, merger\n",
            "7. merger, merger\n",
            "8. merger, spiral\n",
            "9. elliptical, elliptical\n"
          ],
          "name": "stdout"
        }
      ]
    },
    {
      "cell_type": "markdown",
      "metadata": {
        "id": "1GFrB7PIiUYA"
      },
      "source": [
        "# Task 5\n",
        "## Working on DECISION TREE CLASSIFIER"
      ]
    },
    {
      "cell_type": "code",
      "metadata": {
        "scrolled": true,
        "id": "M6CQE4-2iUYB",
        "outputId": "fa200394-3a34-40e5-e71e-ad0629749876"
      },
      "source": [
        "def plot_confusion_matrix(cm, classes,\n",
        "                          normalize=False,\n",
        "                          title='Confusion matrix',\n",
        "                          cmap=plt.cm.Blues):\n",
        "    \"\"\"\n",
        "    This function prints and plots the confusion matrix.\n",
        "    Normalization can be applied by setting `normalize=True`.\n",
        "    \"\"\"\n",
        "    plt.imshow(cm, interpolation='nearest', cmap=cmap)\n",
        "    plt.title(title)\n",
        "    plt.colorbar()\n",
        "    tick_marks = np.arange(len(classes))\n",
        "    plt.xticks(tick_marks, classes, rotation=45)\n",
        "    plt.yticks(tick_marks, classes)\n",
        "\n",
        "    if normalize:\n",
        "        cm = cm.astype('float') / cm.sum(axis=1)[:, np.newaxis]\n",
        "        print(\"Normalized confusion matrix\")\n",
        "    else:\n",
        "        print('Confusion matrix, without normalization')\n",
        "\n",
        "    print(cm)\n",
        "\n",
        "    thresh = cm.max() / 2.\n",
        "    for i, j in itertools.product(range(cm.shape[0]), range(cm.shape[1])):\n",
        "        plt.text(j, i, \"{}\".format(cm[i, j]),\n",
        "                 horizontalalignment=\"center\",\n",
        "                 color=\"white\" if cm[i, j] > thresh else \"black\")\n",
        "\n",
        "    plt.tight_layout()\n",
        "    plt.ylabel('True Class')\n",
        "    plt.xlabel('Predicted Class')\n",
        "\n",
        "\n",
        "def calculate_accuracy(predicted, actual):\n",
        "    correct = sum(predicted == actual)\n",
        "    return correct/(len(predicted))\n",
        "\n",
        "\n",
        "def main():\n",
        "    data = np.load(r'C:\\Users\\91735\\Downloads\\galaxy_catalogue.npy')\n",
        "\n",
        "    # split the data\n",
        "    features, targets = generate_features_targets(data)\n",
        "\n",
        "    # train the model to get predicted and actual classes\n",
        "    dtc = DecisionTreeClassifier()\n",
        "    predicted = cross_val_predict(dtc, features, targets, cv=10)\n",
        "\n",
        "    # calculate the model score using your function\n",
        "    model_score = calculate_accuracy(predicted, targets)\n",
        "    print(\"Our accuracy score:\", model_score)\n",
        "\n",
        "    # calculate the models confusion matrix using sklearns confusion_matrix\n",
        "    class_labels = list(set(targets))\n",
        "    model_cm = confusion_matrix(y_true=targets, y_pred=predicted,\n",
        "                                labels=class_labels)\n",
        "\n",
        "    # Plot the confusion matrix using the provided functions.\n",
        "    plt.figure()\n",
        "    plot_confusion_matrix(model_cm, classes=class_labels, normalize=False)\n",
        "    plt.show()\n",
        "\n",
        "\n",
        "main()"
      ],
      "execution_count": null,
      "outputs": [
        {
          "output_type": "stream",
          "text": [
            "Our accuracy score: 0.7871794871794872\n",
            "Confusion matrix, without normalization\n",
            "[[183  54  23]\n",
            " [ 55 199   6]\n",
            " [ 24   4 232]]\n"
          ],
          "name": "stdout"
        },
        {
          "output_type": "display_data",
          "data": {
            "image/png": "[encoded data removed]",
            "text/plain": [
              "<Figure size 432x288 with 2 Axes>"
            ]
          },
          "metadata": {
            "tags": [],
            "needs_background": "light"
          }
        }
      ]
    },
    {
      "cell_type": "markdown",
      "metadata": {
        "id": "XBW6JQfviUYB"
      },
      "source": [
        "# Task 6\n",
        "## Working on RANDOM FOREST CLASSIFIER"
      ]
    },
    {
      "cell_type": "code",
      "metadata": {
        "id": "Sh2aqmhTiUYC",
        "outputId": "8f97357f-6f3b-490b-d0c7-2332a9f8da0a"
      },
      "source": [
        "def rf_predict_actual(data, n_estimators):\n",
        "    # generate the features and targets\n",
        "    features, targets = generate_features_targets(data)\n",
        "\n",
        "    # instantiate a random forest classifier using n estimators\n",
        "    rfc = RandomForestClassifier(n_estimators=n_estimators)\n",
        "  \n",
        "    # get predictions using 10-fold cross validation with cross_val_predict\n",
        "    predicted = cross_val_predict(rfc, features, targets, cv=10)\n",
        "\n",
        "    # return the predictions and their actual classes\n",
        "    return predicted, targets\n",
        "\n",
        "\n",
        "def main():\n",
        "    data = np.load(r'C:\\Users\\91735\\Downloads\\galaxy_catalogue.npy')\n",
        "\n",
        "    # get the predicted and actual classes\n",
        "    number_estimators = 50              # Number of trees\n",
        "    predicted, actual = rf_predict_actual(data, number_estimators)\n",
        "\n",
        "    # calculate the model score using your function\n",
        "    accuracy = calculate_accuracy(predicted, actual)\n",
        "    print(\"Accuracy score:\", accuracy)\n",
        "\n",
        "    # calculate the models confusion matrix using sklearns confusion_matrix\n",
        "    class_labels = list(set(actual))\n",
        "    model_cm = confusion_matrix(y_true=actual, y_pred=predicted,\n",
        "                                labels=class_labels)\n",
        "\n",
        "    # plot the confusion matrix using the provided functions.\n",
        "    plt.figure()\n",
        "    plot_confusion_matrix(model_cm, classes=class_labels, normalize=False)\n",
        "    plt.show()\n",
        "\n",
        "\n",
        "main()"
      ],
      "execution_count": null,
      "outputs": [
        {
          "output_type": "stream",
          "text": [
            "Accuracy score: 0.8692307692307693\n",
            "Confusion matrix, without normalization\n",
            "[[212  35  13]\n",
            " [ 39 219   2]\n",
            " [ 12   1 247]]\n"
          ],
          "name": "stdout"
        },
        {
          "output_type": "display_data",
          "data": {
            "image/png": "[encoded data removed]",
            "text/plain": [
              "<Figure size 432x288 with 2 Axes>"
            ]
          },
          "metadata": {
            "tags": [],
            "needs_background": "light"
          }
        }
      ]
    }
  ]
}